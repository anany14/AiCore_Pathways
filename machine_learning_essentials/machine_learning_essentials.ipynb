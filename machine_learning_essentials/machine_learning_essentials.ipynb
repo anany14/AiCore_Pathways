{
 "cells": [
  {
   "cell_type": "markdown",
   "metadata": {},
   "source": [
    "## Machine Learning Essentials \n",
    "Model -\n",
    "\n",
    "Machine learning models are computer programs that are used to recognize patterns in data or make predictions. Machine learning models are created from machine learning algorithms, which are trained using either labeled, unlabeled, or mixed data. So, basically a mathematic function is sort of a model.\n",
    "\n",
    "Linear regression makes predictions that are simply a __`w`eighted__ combination (a linear combination) of the inputs (plus some offset called __`b`ias__). It is described by a linear function:\n",
    "\n",
    "$$\n",
    "    y = wx + b\n",
    "$$\n",
    "__Linear regression predicts continuous outputs__, hence the regression part of the name"
   ]
  },
  {
   "cell_type": "code",
   "execution_count": 25,
   "metadata": {},
   "outputs": [],
   "source": [
    "from sklearn import datasets\n",
    "from sklearn import model_selection\n",
    "import numpy as np\n",
    "import matplotlib.pyplot as plt"
   ]
  },
  {
   "cell_type": "code",
   "execution_count": 3,
   "metadata": {},
   "outputs": [
    {
     "name": "stdout",
     "output_type": "stream",
     "text": [
      "Shape of Features (X): (20640, 8)\n",
      "Shape of Labels (y): (20640,)\n"
     ]
    }
   ],
   "source": [
    "# Load the California housing dataset\n",
    "california_data = datasets.fetch_california_housing()\n",
    "# Assign the features (data) to X and labels (target) to y\n",
    "X = california_data.data\n",
    "y = california_data.target\n",
    "print(\"Shape of Features (X):\", X.shape)\n",
    "print(\"Shape of Labels (y):\", y.shape)\n",
    "'''\n",
    "Another way to load the dataset\n",
    "X, y = datasets.fetch_california_housing(return_X_y=True)\n",
    "'''\n"
   ]
  },
  {
   "cell_type": "code",
   "execution_count": 5,
   "metadata": {},
   "outputs": [
    {
     "name": "stdout",
     "output_type": "stream",
     "text": [
      "Shape of Training Features (X_train): (16512, 8)\n",
      "Shape of Validation Features (X_val): (2064, 8)\n",
      "Shape of Test Features (X_test): (2064, 8)\n",
      "Shape of Training Labels (y_train): (16512,)\n",
      "Shape of Validation Labels (y_val): (2064,)\n",
      "Shape of Test Labels (y_test): (2064,)\n"
     ]
    }
   ],
   "source": [
    "X_train, X_temp, y_train, y_temp = model_selection.train_test_split(X, y, test_size = 0.2, random_state = 42)\n",
    "X_val, X_test, y_val, y_test = model_selection.train_test_split(X_temp, y_temp, test_size = 0.5, random_state = 42)\n",
    "print(\"Shape of Training Features (X_train):\", X_train.shape)\n",
    "print(\"Shape of Validation Features (X_val):\", X_val.shape)\n",
    "print(\"Shape of Test Features (X_test):\", X_test.shape)\n",
    "print(\"Shape of Training Labels (y_train):\", y_train.shape)\n",
    "print(\"Shape of Validation Labels (y_val):\", y_val.shape)\n",
    "print(\"Shape of Test Labels (y_test):\", y_test.shape)"
   ]
  },
  {
   "cell_type": "markdown",
   "metadata": {},
   "source": [
    "The task here is `LinearRegression` implementation.\n",
    "\n",
    "- Create a class `LinearRegression` that accepts a single `n_features` argument during initialisation.\n",
    "    - Create `W` and `b` variables during initialisation. One of shape `(n_features, 1)` and `bias` of shape `1`, initialised with a random normal distribution.\n",
    "- Create a `__call__` function (find out what it does and what a functor is) that accepts `X` (`np.array`). It should return the predictions made by our linear-regression analysis (see the formulas in the figure above; only two operations are required).\n",
    "- Create the `update_params` function which accepts `W` and `b` and assigns them to appropriate variables in `self`."
   ]
  },
  {
   "cell_type": "code",
   "execution_count": 27,
   "metadata": {},
   "outputs": [],
   "source": [
    "class LinearRegression:\n",
    "    def __init__(self, n_features: int): # initalise parameters\n",
    "        np.random.seed(10)\n",
    "        self.W = np.random.randn(n_features, 1) ## randomly initialise weight\n",
    "        self.b = np.random.randn(1) ## randomly initialise bias\n",
    "        \n",
    "    def __call__(self, X): # how do we calculate the output from an input in our model?\n",
    "        ypred = np.dot(X, self.W) + self.b\n",
    "        return ypred # return prediction\n",
    "    \n",
    "    def update_params(self, W, b):\n",
    "        self.W = W ## set this instance's weights to the new weight value passed to the function\n",
    "        self.b = b ## do the same for the bias"
   ]
  },
  {
   "cell_type": "code",
   "execution_count": 28,
   "metadata": {},
   "outputs": [
    {
     "name": "stdout",
     "output_type": "stream",
     "text": [
      "[[ 475.12681168]\n",
      " [ 406.55644012]\n",
      " [ 252.47278832]\n",
      " [ 850.86155399]\n",
      " [ 190.65306424]\n",
      " [ 654.61060225]\n",
      " [1045.72424413]\n",
      " [1534.68628289]\n",
      " [ 170.78972425]\n",
      " [ 281.27102029]]\n",
      "[2.385 3.297 0.952 2.451 0.641 3.766 2.307 1.752 4.167 0.938]\n"
     ]
    }
   ],
   "source": [
    "model = LinearRegression(n_features=8)  # instantiate our linear model\n",
    "y_pred = model(X_test)  # make predictions with data\n",
    "print(\"Predictions:\\n\", y_pred[:10]) # print the first 10 predictions\n",
    "print(\"Predictions:\\n\", y_test[:10])"
   ]
  },
  {
   "cell_type": "code",
   "execution_count": 29,
   "metadata": {},
   "outputs": [
    {
     "data": {
      "image/png": "[encoded data removed]",
      "text/plain": [
       "<Figure size 640x480 with 1 Axes>"
      ]
     },
     "metadata": {},
     "output_type": "display_data"
    }
   ],
   "source": [
    "def plot_predictions(y_pred, y_true):\n",
    "    samples = len(y_pred)\n",
    "    plt.figure()\n",
    "    plt.scatter(np.arange(samples), y_pred, c='r', label='predictions')\n",
    "    plt.scatter(np.arange(samples), y_true, c='b', label='true labels', marker='x')\n",
    "    plt.legend()\n",
    "    plt.xlabel('Sample numbers')\n",
    "    plt.ylabel('Values')\n",
    "    plt.show()\n",
    "\n",
    "plot_predictions(y_pred[:10],y_test[:10])"
   ]
  },
  {
   "cell_type": "markdown",
   "metadata": {},
   "source": [
    "As you can observe, the predictions of our model are way off. This occurred because we initialised our model with random weights and biases.\n",
    "\n",
    "Now we can learn from our data - \n",
    "- Loss enables the measurement of the performances of models. The loss should measure the performance of our model. The loss value needs to return a single number, not a vector or a matrix.\n",
    "- Squared-error loss\n",
    "    - The loss is a function that accepts predictions and true labels and returns a positive scalar.\n",
    "    - The higher the loss value, the worse the model's performance.\n",
    "    - The loss is defined on a single data point.\n",
    "- Mean-squared error (MSE) cost function\n",
    "    - The cost function is a generalisation of the loss functions for many data samples.\n"
   ]
  },
  {
   "cell_type": "code",
   "execution_count": 30,
   "metadata": {},
   "outputs": [],
   "source": [
    "def mean_squared_error(y_pred, y_true):  # define our criterion (loss function)\n",
    "    errors = y_pred - y_true  ## calculate errors\n",
    "    squared_errors = errors ** 2  ## square errors\n",
    "    return np.mean(squared_errors)\n",
    "\n",
    "cost = mean_squared_error(y_pred, y_train)\n",
    "print(cost)"
   ]
  },
  {
   "cell_type": "markdown",
   "metadata": {},
   "source": [
    "Now that we have our loss equation, we can calculate its derivative w.r.t. the weights. When we set it to zero, we can calculate the weights values (W), which minimise the MSE.\n",
    "- For the matrix inverse, we use the np.linalg.inv function.\n",
    "- Remember to return the weights part of the matrix first and the bias afterwards (bias is the 0 element of the result)."
   ]
  },
  {
   "cell_type": "code",
   "execution_count": 31,
   "metadata": {},
   "outputs": [
    {
     "name": "stdout",
     "output_type": "stream",
     "text": [
      "[ 4.48674910e-01  9.72425752e-03 -1.23323343e-01  7.83144907e-01\n",
      " -2.02962058e-06 -3.52631849e-03 -4.19792487e-01 -4.33708065e-01] -37.02327770519514\n"
     ]
    }
   ],
   "source": [
    "def minimize_loss(X_train, y_train):\n",
    "    X_with_bias = np.hstack((np.ones((X_train.shape[0], 1)), X_train))\n",
    "    optimal_w = np.matmul(\n",
    "        np.linalg.inv(np.matmul(X_with_bias.T, X_with_bias)),\n",
    "        np.matmul(X_with_bias.T, y_train),\n",
    "    )\n",
    "    return optimal_w[1:], optimal_w[0]\n",
    "\n",
    "\n",
    "weights, bias = minimize_loss(X_train, y_train)\n",
    "print(weights, bias)"
   ]
  },
  {
   "cell_type": "markdown",
   "metadata": {},
   "source": [
    "As you may have noticed, there is no mention of the model bias in this analytical solution. In fact, we incorporated the model bias into our features matrix by adding an extra column filled with 1. Now, we'll update the parameters"
   ]
  },
  {
   "cell_type": "code",
   "execution_count": 32,
   "metadata": {},
   "outputs": [
    {
     "name": "stdout",
     "output_type": "stream",
     "text": [
      "0.51793312552467\n"
     ]
    }
   ],
   "source": [
    "model.update_params(weights, bias)\n",
    "y_pred = model(X_train)\n",
    "cost = mean_squared_error(y_pred, y_train)\n",
    "print(cost)"
   ]
  },
  {
   "cell_type": "code",
   "execution_count": 33,
   "metadata": {},
   "outputs": [
    {
     "name": "stdout",
     "output_type": "stream",
     "text": [
      "[1.93725845 2.48910616 2.64735483 1.56589492 1.61312839 3.2835959\n",
      " 1.54483704 4.13952963 0.84330441 2.65994108]\n",
      "[2.385 3.297 0.952 2.451 0.641 3.766 2.307 1.752 4.167 0.938]\n"
     ]
    }
   ],
   "source": [
    "print(y_pred[:10])\n",
    "print(y_test[:10])"
   ]
  },
  {
   "cell_type": "code",
   "execution_count": 34,
   "metadata": {},
   "outputs": [
    {
     "data": {
      "image/png": "[encoded data removed]",
      "text/plain": [
       "<Figure size 640x480 with 1 Axes>"
      ]
     },
     "metadata": {},
     "output_type": "display_data"
    }
   ],
   "source": [
    "plot_predictions(y_pred[:10],y_test[:10])"
   ]
  },
  {
   "cell_type": "markdown",
   "metadata": {},
   "source": [
    "#### Model in SkLearn:\n",
    "sklearn comes with some common ML models that can be utilised out of the box, with an intuitive API. \n",
    "sklearn ML algorithms are objects with the following general syntax:\n",
    "- __init__(*args, **kwargs): setup your algorithm (as shown above).\n",
    "- fit(X, [y]): train the model on X (features) and y (targets). For unsupervised algorithms, there is no y.\n",
    "- predict(X): pass data (previously unseen) to the algorithm after the fit is called. This gives us predictions (y_pred).\n"
   ]
  },
  {
   "cell_type": "code",
   "execution_count": 56,
   "metadata": {},
   "outputs": [
    {
     "name": "stdout",
     "output_type": "stream",
     "text": [
      "[4.13164983 3.97660644 3.67657094 3.2415985  2.41358744] \n",
      " [4.526 3.585 3.521 3.413 3.422]\n"
     ]
    }
   ],
   "source": [
    "from sklearn import linear_model\n",
    "\n",
    "X, y = datasets.fetch_california_housing(return_X_y=True)\n",
    "\n",
    "model = linear_model.LinearRegression()\n",
    "\n",
    "model.fit(X, y)\n",
    "y_pred = model.predict(X)\n",
    "\n",
    "print(y_pred[:5], \"\\n\", y[:5])"
   ]
  },
  {
   "cell_type": "code",
   "execution_count": 57,
   "metadata": {},
   "outputs": [
    {
     "name": "stdout",
     "output_type": "stream",
     "text": [
      "0.5243209861846072\n"
     ]
    },
    {
     "data": {
      "text/plain": [
       "['model.joblib']"
      ]
     },
     "execution_count": 57,
     "metadata": {},
     "output_type": "execute_result"
    }
   ],
   "source": [
    "# Below, we import sklearn.metrics.mean_squared_error using the from import syntax and display the error between the true targets and the predicted ones.\n",
    "from sklearn import metrics\n",
    "print(metrics.mean_squared_error(y, y_pred))\n",
    "# As is known, the training (fitting) process is often quite expensive (in terms of time and/or computation cost). What is important is the ability to predict on unseen data.\n",
    "# Having established that your model works as expected, the next logical step is to save it for later use without the need to train on the data again\n",
    "# we can save our model using joblib\n",
    "import joblib\n",
    "joblib.dump(model, \"model.joblib\")"
   ]
  },
  {
   "cell_type": "markdown",
   "metadata": {},
   "source": [
    "#### Drawbacks of `sklearn`\n",
    "\n",
    "As `sklearn` is very high level, it does not require much knowledge to use.\n",
    "\n",
    "However, __adequate and somewhat diverse knowledge__ is required to do ML properly.\n",
    "\n",
    "Here are some important things to note.\n",
    "\n",
    "- Why and what for: there are many more ways (and considerably better) to do ML.\n",
    "- Knowledge of ML algorithms: it is important to know which ones to choose for different kinds of problems.\n",
    "- Knowledge of possible pitfalls: ML can easily go wrong. It is important to know more about it to improve our model's performance.\n",
    "- In-depth knowledge of the ideas: often, it might be a good idea to implement major ideas on your own.\n",
    "#### `sklearn` tips\n",
    "\n",
    "- __Always attempt the easiest solution first__: create a weak baseline algorithm, and scrutinise its performance. Do not go straight to the most complicated ones. This concept is called [Occam's Razor](https://en.wikipedia.org/wiki/Occam%27s_razor) in philosophy and ML as well.\n",
    "- Some algorithms have attributes that might interest you. They are usually suffixed by `_`; for example, `my_algorithm.interesting_attribute_`.\n",
    "- Some `__init__` functions have __many possible arguments__. Each of them influences the performance of the algorithm. Find out the ones with the highest importance and the most influence. __In `sklearn`, those arguments come in the order of most influential to least influential.__\n",
    "- Many `sklearn` algorithms provide the `n_jobs` argument, which parallelises `fit`, `predict` and other functions. You can employ `n_jobs=-1` to use as many processes as there are virtual cores (it is often a reasonable amount), which improves performance tremendously.\n",
    "- __Use idiomatic `sklearn`__: search the documentation, and use pipelines if possible.\n",
    "\n"
   ]
  },
  {
   "cell_type": "markdown",
   "metadata": {},
   "source": [
    "## Practicals\n",
    "### Task 1\n",
    "- Create a conda environment called “sk_learn_tutorial”, with pip , numpy and sk-learn installed. You can specify all of this in the conda create statement, see the docs \n",
    "- Activate the environment and install the sklearn package using pip.\n",
    "- Create a file called linear_regression.py. Inside the file, import the datasets and model selection modules from sci-kit learn.\n",
    "- Fetch the California dataset of California real estate prices, and assign the labels and features to variables called X and y. Print the shape of the features and labels.\n",
    "- Divide the dataset into train, validation and test subsets, using the model_selection.train_test_split method. Hint - you will need to apply the method twice to generate the three subsets.\n",
    "- Create a class called LinearRegression. The class should have two methods - the class constructor, which needs to randomly assign initial weights for each feature, and set a random seed for reproducibility. A method called call that runs when we call an instance of the class on some data, and returns a prediction based on the features in X.\n",
    "- Create an instance of LinearRegression and use it to get the predictions based on the initial weights. Print the first 10 examples. Now print the first 10 actual values of y. What do you notice?\n",
    "- We now need to tell the model how to improve. Add a new method to the LinearRegression class, called update_parameters. This method should update the model's weight and bias attributes to new values which are passed to the method as parameters.\n",
    "- Define a function inside linear_regression.py that takes in the predictions and the labels, and calculates the squared error of the difference between them.\n",
    "- Call this function on the initial predictions and the labels, and assign the output to a variable called cost.\n",
    "- Define a function inside linear_regression.py that takes in the features and labels of the training set and calculates the optimum values of the weights and biases for each feature. You can refer to the Notebook for help here!\n",
    "- Call this function on X_train and y_train and assign the outputs to variables called weights and biases.\n",
    "- Update the model with these optimised weights and biases using the update_parameters method.\n",
    "- Call the model on the X_train data again, and use the mean_squared_error method to calculate the loss with the updated parameters.\n",
    "- Finally, print out the first few values of y_train and y_pred again. Do they look any better?\n",
    "\n",
    "1. Created the environment using `conda create -n sk_learn_tutorial python=3 pip numpy scikit-learn`\n",
    "2. Created the file.\n",
    "3. Run it to see the results.\n"
   ]
  },
  {
   "cell_type": "markdown",
   "metadata": {},
   "source": [
    "### Task 2\n",
    "- Use scikit-learn to create a linear regression model for the house prices in the California dataset, this time using scikit-learn's linear model.\n",
    "- Evaluate the model on the test data using scikit-learn's MSE metric.\n",
    "- Save the finished model to disk."
   ]
  },
  {
   "cell_type": "code",
   "execution_count": 37,
   "metadata": {},
   "outputs": [
    {
     "name": "stdout",
     "output_type": "stream",
     "text": [
      "Mean Squared Error: 0.5558915986952425\n"
     ]
    },
    {
     "data": {
      "image/png": "[encoded data removed]",
      "text/plain": [
       "<Figure size 640x480 with 1 Axes>"
      ]
     },
     "metadata": {},
     "output_type": "display_data"
    }
   ],
   "source": [
    "import numpy as np\n",
    "import pandas as pd\n",
    "from sklearn.datasets import fetch_california_housing\n",
    "from sklearn.model_selection import train_test_split\n",
    "from sklearn.linear_model import LinearRegression\n",
    "from sklearn.metrics import mean_squared_error\n",
    "import joblib\n",
    "\n",
    "# Step 1: Load the California dataset\n",
    "data = fetch_california_housing()\n",
    "X, y = data.data, data.target\n",
    "\n",
    "# Step 2: Split the dataset into training and test sets\n",
    "X_train, X_test, y_train, y_test = train_test_split(X, y, test_size=0.2, random_state=42)\n",
    "\n",
    "# Step 3: Create and train the linear regression model\n",
    "model = LinearRegression()\n",
    "model.fit(X_train, y_train)\n",
    "\n",
    "# Step 4: Make predictions on the test data\n",
    "y_pred = model.predict(X_test)\n",
    "\n",
    "# Step 5: Evaluate the model using MSE metric\n",
    "mse = mean_squared_error(y_test, y_pred)\n",
    "print(\"Mean Squared Error:\", mse)\n",
    "\n",
    "plot_predictions(y_pred[:10],y_test[:10])\n",
    "\n",
    "# Step 6: Save the trained model to disk\n",
    "#joblib.dump(model, 'linear_regression_model.pkl')\n"
   ]
  },
  {
   "cell_type": "markdown",
   "metadata": {},
   "source": [
    "### Task 3\n",
    "- Create a linear regression model of some example data with scikit-learn.\n",
    "- Use the matplotlib library to plot the first 20 real and predicted label values as two series on a graph, where the X-axis is samples, and the Y-axis is the value of the label.\n",
    "- Now instead plot the MSE in the same way."
   ]
  },
  {
   "cell_type": "code",
   "execution_count": 38,
   "metadata": {},
   "outputs": [
    {
     "data": {
      "image/png": "[encoded data removed]",
      "text/plain": [
       "<Figure size 1000x600 with 1 Axes>"
      ]
     },
     "metadata": {},
     "output_type": "display_data"
    },
    {
     "data": {
      "image/png": "[encoded data removed]",
      "text/plain": [
       "<Figure size 800x600 with 1 Axes>"
      ]
     },
     "metadata": {},
     "output_type": "display_data"
    }
   ],
   "source": [
    "import numpy as np\n",
    "import matplotlib.pyplot as plt\n",
    "from sklearn.linear_model import LinearRegression\n",
    "from sklearn.metrics import mean_squared_error\n",
    "\n",
    "# Example data\n",
    "X = np.random.rand(100, 1)\n",
    "y = 2 * X + 3 + np.random.normal(0, 0.1, (100, 1))\n",
    "\n",
    "# Create a linear regression model\n",
    "model = LinearRegression()\n",
    "model.fit(X, y)\n",
    "\n",
    "# Make predictions\n",
    "y_pred = model.predict(X)\n",
    "\n",
    "# Plot the first 20 real and predicted label values\n",
    "plt.figure(figsize=(10, 6))\n",
    "plt.scatter(range(20), y[:20], color='blue', label='Real Label')\n",
    "plt.scatter(range(20), y_pred[:20], color='red', label='Predicted Label')\n",
    "plt.xlabel('Samples')\n",
    "plt.ylabel('Label Value')\n",
    "plt.title('Real and Predicted Label Values')\n",
    "plt.legend()\n",
    "plt.show()\n",
    "\n",
    "# Calculate the mean squared error (MSE)\n",
    "mse = mean_squared_error(y, y_pred)\n",
    "\n",
    "# Plot the MSE\n",
    "plt.figure(figsize=(8, 6))\n",
    "plt.plot(range(len(y)), [mse] * len(y), color='red', label='MSE')\n",
    "plt.xlabel('Samples')\n",
    "plt.ylabel('MSE Value')\n",
    "plt.title('Mean Squared Error (MSE)')\n",
    "plt.legend()\n",
    "plt.show()\n"
   ]
  },
  {
   "cell_type": "markdown",
   "metadata": {},
   "source": [
    "### Importance of Validation Sets\n",
    "- ML models are only useful if they can generalise and make good predictions on unseen data.\n",
    "- Test Set:\n",
    "    The test set is used for evaluating if a model meets the desired requirements and for estimating its real-world performance. It is not employed for making choices about the model.\n",
    "\n",
    "    The decision to choose between two models cannot be based on the testing set. If that were the case, the decisions would be biased, leaning towards our expectations.\n",
    "    Making a decision based on the testing set is analogous to seeing the answers on a test.\n",
    "- Validation set:\n",
    "    Instead, we create another set, called the validation set. This set is used for comparing models or different options for the same model, and the process is referred to as cross validation.\n"
   ]
  },
  {
   "cell_type": "code",
   "execution_count": 62,
   "metadata": {},
   "outputs": [
    {
     "name": "stdout",
     "output_type": "stream",
     "text": [
      "Number of samples in dataset: 506\n",
      "Number of samples in:\n",
      "    Training: 354\n",
      "    Testing: 152\n",
      "Number of samples in:\n",
      "    Training: 354\n",
      "    Validation: 46\n",
      "    Testing: 106\n"
     ]
    }
   ],
   "source": [
    "data_url = \"http://lib.stat.cmu.edu/datasets/boston\"\n",
    "raw_df = pd.read_csv(data_url, sep=\"\\s+\", skiprows=22, header=None)\n",
    "X = np.hstack([raw_df.values[::2, :], raw_df.values[1::2, :2]])\n",
    "y = raw_df.values[1::2, 2]\n",
    "\n",
    "print(f\"Number of samples in dataset: {len(X)}\")\n",
    "\n",
    "X_train, X_test, y_train, y_test = train_test_split(X, y, test_size=0.3)\n",
    "\n",
    "print(\"Number of samples in:\")\n",
    "print(f\"    Training: {len(y_train)}\")\n",
    "print(f\"    Testing: {len(y_test)}\")\n",
    "\n",
    "X_test, X_validation, y_test, y_validation = train_test_split(\n",
    "    X_test, y_test, test_size=0.3\n",
    ")\n",
    "\n",
    "print(\"Number of samples in:\")\n",
    "print(f\"    Training: {len(y_train)}\")\n",
    "print(f\"    Validation: {len(y_validation)}\")\n",
    "print(f\"    Testing: {len(y_test)}\")\n",
    "\n"
   ]
  },
  {
   "cell_type": "markdown",
   "metadata": {},
   "source": [
    "The difference is that the validation set, not the test set, is employed to make choices about models."
   ]
  },
  {
   "cell_type": "code",
   "execution_count": 63,
   "metadata": {},
   "outputs": [
    {
     "name": "stdout",
     "output_type": "stream",
     "text": [
      "DecisionTreeRegressor: Train Loss: 0.0 | Validation Loss: 28.235000000000003 | Test Loss: 16.286037735849057\n",
      "SVR: Train Loss: 69.85565409803411 | Validation Loss: 62.36581675492926 | Test Loss: 63.03778607253605\n",
      "LinearRegression: Train Loss: 21.213462909983292 | Validation Loss: 39.00514517333327 | Test Loss: 21.420451166897237\n"
     ]
    }
   ],
   "source": [
    "import numpy as np\n",
    "# ML algorithms you will later know, don't panic\n",
    "from sklearn.linear_model import LinearRegression\n",
    "from sklearn.metrics import mean_squared_error\n",
    "from sklearn.svm import SVR\n",
    "from sklearn.tree import DecisionTreeRegressor\n",
    "\n",
    "np.random.seed(2)\n",
    "\n",
    "models = [\n",
    "    DecisionTreeRegressor(splitter=\"random\"),\n",
    "    SVR(),\n",
    "    LinearRegression()\n",
    "]\n",
    "\n",
    "for model in models:\n",
    "    model.fit(X_train, y_train)\n",
    "\n",
    "    y_train_pred = model.predict(X_train)\n",
    "    y_validation_pred = model.predict(X_validation)\n",
    "    y_test_pred = model.predict(X_test)\n",
    "\n",
    "    train_loss = mean_squared_error(y_train, y_train_pred)\n",
    "    validation_loss = mean_squared_error(y_validation, y_validation_pred)\n",
    "    test_loss = mean_squared_error(y_test, y_test_pred)\n",
    "\n",
    "    print(\n",
    "        f\"{model.__class__.__name__}: \"\n",
    "        f\"Train Loss: {train_loss} | Validation Loss: {validation_loss} | \"\n",
    "        f\"Test Loss: {test_loss}\"\n",
    "    )"
   ]
  },
  {
   "cell_type": "markdown",
   "metadata": {},
   "source": [
    "- As you can observe, the best validation loss is for linear regression. This is the model we should choose. Unfortunately, it occurs that on 'real' (test) data, it performs worse than the Decision Tree.\n",
    "\n",
    "- Pseudo-random number generators\n",
    "Many ML algorithms employ random initialisation to, for example, instantiate the parameters of a linear regression model. Depending on the algorithm, it may have a more- or less-severe effect on the result.\n",
    "\n",
    "- Each time you run an algorithm randomly, the result may vary to some degree.\n",
    "Random number generators employ a seed, which is a numerical value that determines what values will be generated.\n",
    "For each run to be the same, (or to exhibit some phenomena similar to the case above), we should always seed all functions using random numbers.\n",
    "The last one is quite easy in numpy and sklearn as it is a single line. Seeding via this approach is common in most frameworks.\n",
    "\n",
    "- Benefits of seed initialisation\n",
    "To ensure the reproducibility of experiments, which is particularly important in ML.\n",
    "To ensure an equal outcome for all runs.\n",
    "Always set a random seed to make sure your results are repeatable when some part of the code involves random numbers being generated.\n",
    "\n",
    "- Data leakage refers to a situation where a model has access to information about the testing sets. Definitely, in the real world, when working with new examples, the model will not know anything about the incoming data. This means that in training, the separation must be carefully preserved.\n",
    "\n",
    "    - Never make any decisions about your model design using the test set.\n",
    "\n",
    "    - Causes\n",
    "    Data leakage can be caused by bad data splitting. These include the following cases:\n",
    "\n",
    "    - Some samples are both in training and validation.\n",
    "    The model is evaluated based on its performance on the training data."
   ]
  },
  {
   "cell_type": "code",
   "execution_count": 64,
   "metadata": {},
   "outputs": [
    {
     "name": "stdout",
     "output_type": "stream",
     "text": [
      "Validation loss: 39.00514517333327\n",
      "Validation loss: 32.193318017558646\n"
     ]
    }
   ],
   "source": [
    "def calculate_validation_loss(X_train, y_train, X_validation, y_validation):\n",
    "    model = LinearRegression()\n",
    "\n",
    "    # Without data leakage, train on train, validate on validation\n",
    "    model.fit(X_train, y_train)\n",
    "    y_validation_pred = model.predict(X_validation)\n",
    "    validation_loss = mean_squared_error(y_validation, y_validation_pred)\n",
    "\n",
    "    print(f\"Validation loss: {validation_loss}\")\n",
    "    \n",
    "# Without data leakage, train on train, validate on validation\n",
    "calculate_validation_loss(X_train, y_train, X_validation, y_validation)\n",
    "\n",
    "# With data leakage, 50 samples from validation added\n",
    "fail_X_train = np.concatenate((X_train, X_validation[:50]))\n",
    "fail_y_train = np.concatenate((y_train, y_validation[:50]))\n",
    "\n",
    "calculate_validation_loss(fail_X_train, fail_y_train, X_validation, y_validation)"
   ]
  },
  {
   "cell_type": "markdown",
   "metadata": {},
   "source": [
    "- Validation set is used to find info about best algorithms, best set of arguments to algoirthms etc.\n",
    "- Test set is used to check how our algorithm performs on unseen data\n",
    "- __As we tune algorithms according to `validation` dataset we cannot use it to check performance__\n",
    "- `seed` is used to ensure reproducibility. Also multiple runs for experiments are good if our code depends on random initialization heavily (we can take mean results of experiments)\n",
    "- Data leakage is information from `validation` (or `test`) leaking into training\n",
    "- Data leakage leads to falsely good results and should be avoided\n",
    "- Rule of thumb: imagine you only have training dataset when doing preprocessing. Anything you calculate from it cannot be used in `validation` or `test`"
   ]
  },
  {
   "cell_type": "markdown",
   "metadata": {},
   "source": [
    "### Task 4\n",
    "- Download the diabetes dataset using the sklearn.datasets module.\n",
    "- Use the train_test_split function from sklearn to split the diabetes dataset into a train set and a validation set.\n",
    "- Split the validation set into two equal parts, naming one of them validation and the other test."
   ]
  },
  {
   "cell_type": "code",
   "execution_count": 52,
   "metadata": {},
   "outputs": [
    {
     "name": "stdout",
     "output_type": "stream",
     "text": [
      "Number of samples in:\n",
      "    Training: 353\n",
      "    Testing: 44\n",
      "    Validation: 45\n"
     ]
    }
   ],
   "source": [
    "from sklearn.datasets import load_diabetes\n",
    "from sklearn.model_selection import train_test_split\n",
    "\n",
    "X,y = load_diabetes(return_X_y=True)\n",
    "X_train,X_test,y_train,y_test = train_test_split(X,y,train_size=0.8,random_state=42)\n",
    "X_test,X_val,y_test,y_val = train_test_split(X_test,y_test,test_size=0.5,random_state=42)\n",
    "\n",
    "print(\"Number of samples in:\")\n",
    "print(f\"    Training: {len(y_train)}\")\n",
    "print(f\"    Testing: {len(y_test)}\")\n",
    "print(f\"    Validation: {len(y_val)}\")"
   ]
  },
  {
   "cell_type": "code",
   "execution_count": null,
   "metadata": {},
   "outputs": [],
   "source": []
  }
 ],
 "metadata": {
  "kernelspec": {
   "display_name": "sk_learn_tutorial",
   "language": "python",
   "name": "python3"
  },
  "language_info": {
   "codemirror_mode": {
    "name": "ipython",
    "version": 3
   },
   "file_extension": ".py",
   "mimetype": "text/x-python",
   "name": "python",
   "nbconvert_exporter": "python",
   "pygments_lexer": "ipython3",
   "version": "3.11.4"
  },
  "orig_nbformat": 4
 },
 "nbformat": 4,
 "nbformat_minor": 2
}
