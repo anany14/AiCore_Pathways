{
 "cells": [
  {
   "attachments": {},
   "cell_type": "markdown",
   "metadata": {},
   "source": [
    "1. Define a Cylinder class, its constructor (init) should take two arguments:\n",
    "height\n",
    "radius, which has a default value of 1\n",
    "\n",
    "2. The class has four attributes:\n",
    "- height\n",
    "- radius\n",
    "- surface_area, initialised as None\n",
    "- volume, initialised as None\n",
    "\n",
    "3. It should also have two methods:\n",
    "\n",
    "- get_surface_area: This method updates the attribute surface_area, and it returns the value rounded to 2dp.\n",
    "\n",
    "- get_volume: This method updates the attribute volume, and it returns the value rounded to 2dp.\n",
    "\n",
    "4. Use Google to find the formulae for surface area and volume of a cylinder. Use the formulae to create method definitions for these.\n",
    "\n",
    "5. Now, instead of initialising surface_area and volume to None, initialise them to the value returned by get_surface_area and get_volume respectively."
   ]
  },
  {
   "cell_type": "code",
   "execution_count": null,
   "metadata": {},
   "outputs": [],
   "source": []
  },
  {
   "attachments": {},
   "cell_type": "markdown",
   "metadata": {},
   "source": []
  },
  {
   "cell_type": "code",
   "execution_count": null,
   "metadata": {},
   "outputs": [],
   "source": []
  }
 ],
 "metadata": {
  "language_info": {
   "name": "python"
  },
  "orig_nbformat": 4
 },
 "nbformat": 4,
 "nbformat_minor": 2
}
