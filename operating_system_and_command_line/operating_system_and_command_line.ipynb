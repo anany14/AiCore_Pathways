{
 "cells": [
  {
   "cell_type": "markdown",
   "metadata": {},
   "source": [
    "## Operating Systems\n",
    "\n",
    "An operating system, often abbreviated as OS, is a very large, complex piece of software that controls how a computer runs. It manages hardware resources, schedules tasks, and provides an interface for users and other software to interact with the hardware of a computer. It's aspects are memory management, file system, command line interface, process management and scheduling, security features, interoperability.\n",
    "\n",
    "- UNIX : In UNIX, everything is treated as a file (including hardware like disks, keyboards, etc.) which makes its architecture elegant and easy to interact with. It also introduced many concepts that are still commonly used today, such as a hierarchical file system, shells (like Bash), and scripting languages. MAC and linux are based on unix principles. it is portable,flexibile and robust.\n",
    "\n",
    "- Linux Pros:\n",
    "    - Open source kernel, code is available (see here)\n",
    "    - Good open source software support (most of the open source tools are created with this OS in mind)\n",
    "    - Free to use: most of the distributions are created by contributors or non-profit organizations\n",
    "    - Easy to use out of the box\n",
    "    - Quite modifiable\n",
    "- Linux Cons:\n",
    "    - No direct support from a large company\n",
    "    - Some third-party commercial software is not compatible with Linux\n",
    "    - Less intuitive: Although many Linux distributions have really similar UIs to Windows & Mac OS, some thing work a little differently\n",
    "\n",
    "- Mac Pros:\n",
    "    - Good open source software support (initially based on open source project FreeBSD)\n",
    "    - Supported by large company\n",
    "    - Easy to use out of the box\n",
    "    - Quite modifiable\n",
    "    - Unix-based OS\n",
    "- Mac Cons:\n",
    "    - Closed source : Current source code of Mac OS is not available to read or customise\n",
    "    - Tied to Apple Hardware : It is generally only possible to use Mac OS with Apple machines\n",
    "\n",
    "- Windows Pros:\n",
    "    - Widely used for day-to-day non-professional usage\n",
    "    - Supported by large company\n",
    "    - Easy to use out of the box\n",
    "    - Seamless integration with Microsoft Azure cloud platform\n",
    "    - You can install a Linux distribution on Windows using Windows Subsystem for Linux (WSL). type the command wsl --install\n",
    "- Windows Cons:\n",
    "    - Closed source: Source code of Windows is not available as it is compiled\n",
    "    - Not free: One has to buy this OS\n",
    "    - Generally less well-supported by open source software (which we will use)\n",
    "    - Hard to modify and tune for our own needs\n",
    "    - Has a different terminal (Powershell) by default."
   ]
  },
  {
   "cell_type": "markdown",
   "metadata": {},
   "source": [
    "## Command Line\n",
    "useful for automation and efficiency, more control and precision, learning and understanding, resource compilation. we can use powershell,cmd,zsh,bash,terminal on the basis of our OS."
   ]
  },
  {
   "cell_type": "code",
   "execution_count": null,
   "metadata": {},
   "outputs": [],
   "source": []
  },
  {
   "cell_type": "code",
   "execution_count": null,
   "metadata": {},
   "outputs": [],
   "source": []
  },
  {
   "cell_type": "code",
   "execution_count": null,
   "metadata": {},
   "outputs": [],
   "source": []
  }
 ],
 "metadata": {
  "language_info": {
   "name": "python"
  },
  "orig_nbformat": 4
 },
 "nbformat": 4,
 "nbformat_minor": 2
}
